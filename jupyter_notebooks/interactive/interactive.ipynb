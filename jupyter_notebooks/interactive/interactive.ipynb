{
 "cells": [
  {
   "cell_type": "markdown",
   "metadata": {},
   "source": [
    "# Interactive Widgets"
   ]
  },
  {
   "cell_type": "code",
   "execution_count": 1,
   "metadata": {},
   "outputs": [],
   "source": [
    "import ipywidgets as widgets\n",
    "import matplotlib.pyplot as plt\n",
    "import numpy as np\n",
    "\n",
    "%matplotlib inline"
   ]
  },
  {
   "cell_type": "markdown",
   "metadata": {},
   "source": [
    "$X = first value$\n",
    "\n",
    "$Y = second value$\n",
    "\n",
    "$Result = X^Y$"
   ]
  },
  {
   "cell_type": "code",
   "execution_count": 3,
   "metadata": {},
   "outputs": [
    {
     "data": {
      "application/vnd.jupyter.widget-view+json": {
       "model_id": "32e7c9f88ffd44238449cb79a152276a",
       "version_major": 2,
       "version_minor": 0
      },
      "text/plain": [
       "interactive(children=(IntText(value=5, description='X:'), IntSlider(value=2, description='Y:', max=10), Output…"
      ]
     },
     "metadata": {},
     "output_type": "display_data"
    }
   ],
   "source": [
    "def update_result(x,y):\n",
    "    z=x**y\n",
    "    print('Result: ',z)\n",
    "    \n",
    "\n",
    "os = widgets.IntSlider(\n",
    "            min=0,\n",
    "            max=10,\n",
    "            value=2,\n",
    "            description='Y:',\n",
    "            disabled=False\n",
    "        )\n",
    "so = widgets.IntText(\n",
    "            value=5,\n",
    "            description='X:',\n",
    "            disabled=False\n",
    "        )\n",
    "\n",
    "widgets.interactive(update_result, y= os, x= so)"
   ]
  },
  {
   "cell_type": "code",
   "execution_count": null,
   "metadata": {},
   "outputs": [],
   "source": [
    "import time\n",
    "x = widgets.FloatSlider(min=0, max=100, value = 0)\n",
    "\n",
    "@widgets.interact(w= x)    \n",
    "def update(w):\n",
    "    print(w)\n",
    "    plt.plot([[x.value,0],[10,x.value]], linewidth=5)\n",
    "    plt.show()\n",
    "\n",
    "while True:\n",
    "    time.sleep(0.25)\n",
    "    x.value = x.value + 1\n",
    "    if(x.value >= x.max):\n",
    "        break\n",
    "\n",
    "print(\"Done!\")"
   ]
  }
 ],
 "metadata": {
  "kernelspec": {
   "display_name": "Python 3",
   "language": "python",
   "name": "python3"
  },
  "language_info": {
   "codemirror_mode": {
    "name": "ipython",
    "version": 3
   },
   "file_extension": ".py",
   "mimetype": "text/x-python",
   "name": "python",
   "nbconvert_exporter": "python",
   "pygments_lexer": "ipython3",
   "version": "3.7.7"
  }
 },
 "nbformat": 4,
 "nbformat_minor": 4
}
