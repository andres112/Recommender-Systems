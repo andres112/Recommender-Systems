{
 "cells": [
  {
   "cell_type": "markdown",
   "metadata": {},
   "source": [
    "# Interactive Widgets"
   ]
  },
  {
   "cell_type": "code",
   "execution_count": 70,
   "metadata": {},
   "outputs": [],
   "source": [
    "import ipywidgets as widgets\n",
    "import matplotlib.pyplot as plt\n",
    "import numpy as np\n",
    "\n",
    "%matplotlib inline"
   ]
  },
  {
   "cell_type": "markdown",
   "metadata": {},
   "source": [
    "$X = first value$\n",
    "\n",
    "$Y = second value$\n",
    "\n",
    "$Result = X^Y$"
   ]
  },
  {
   "cell_type": "code",
   "execution_count": 68,
   "metadata": {},
   "outputs": [
    {
     "data": {
      "application/vnd.jupyter.widget-view+json": {
       "model_id": "0838b2cdd5bb44a5b431e322661170ca",
       "version_major": 2,
       "version_minor": 0
      },
      "text/plain": [
       "interactive(children=(IntText(value=5, description='X:'), FloatSlider(value=2.0, description='Y:', max=10.0), …"
      ]
     },
     "metadata": {},
     "output_type": "display_data"
    }
   ],
   "source": [
    "def update_result(x,y):\n",
    "    z=x**y\n",
    "    print('Result: ',z)\n",
    "    \n",
    "\n",
    "os = widgets.FloatSlider(\n",
    "            min=0,\n",
    "            max=10,\n",
    "            value=2,\n",
    "            description='Y:',\n",
    "            disabled=False\n",
    "        )\n",
    "so = widgets.IntText(\n",
    "            value=5,\n",
    "            description='X:',\n",
    "            disabled=False\n",
    "        )\n",
    "\n",
    "widgets.interactive(update_result, y= os, x= so)"
   ]
  },
  {
   "cell_type": "code",
   "execution_count": 73,
   "metadata": {},
   "outputs": [
    {
     "data": {
      "application/vnd.jupyter.widget-view+json": {
       "model_id": "cd5685725204427c8f0265372ced3804",
       "version_major": 2,
       "version_minor": 0
      },
      "text/plain": [
       "interactive(children=(FloatSlider(value=2.0, description='w', max=10.0), Output()), _dom_classes=('widget-inte…"
      ]
     },
     "metadata": {},
     "output_type": "display_data"
    }
   ],
   "source": [
    "x = widgets.FloatSlider(min=0, max=10, value = 2)\n",
    "\n",
    "@widgets.interact(w= x)\n",
    "def update(w):\n",
    "    print(w)\n",
    "    plt.plot([[0,0],[1,w]], linewidth=5)\n",
    "    plt.show()"
   ]
  }
 ],
 "metadata": {
  "kernelspec": {
   "display_name": "Python 3",
   "language": "python",
   "name": "python3"
  },
  "language_info": {
   "codemirror_mode": {
    "name": "ipython",
    "version": 3
   },
   "file_extension": ".py",
   "mimetype": "text/x-python",
   "name": "python",
   "nbconvert_exporter": "python",
   "pygments_lexer": "ipython3",
   "version": "3.7.7"
  }
 },
 "nbformat": 4,
 "nbformat_minor": 4
}
