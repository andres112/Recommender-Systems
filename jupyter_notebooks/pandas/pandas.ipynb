{
 "cells": [
  {
   "cell_type": "markdown",
   "metadata": {},
   "source": [
    "# PANDAS TIPS"
   ]
  },
  {
   "cell_type": "code",
   "execution_count": 1,
   "metadata": {},
   "outputs": [],
   "source": [
    "import pandas as pd\n",
    "import ipywidgets as widgets"
   ]
  },
  {
   "cell_type": "code",
   "execution_count": 2,
   "metadata": {},
   "outputs": [
    {
     "output_type": "stream",
     "name": "stdout",
     "text": "First 5 rows\n                     Name Type 1  Type 2  HP  Attack  Defense  Sp. Atk  \\\n#                                                                       \n1              Bulbasaur  Grass  Poison  45      49       49       65   \n2                Ivysaur  Grass  Poison  60      62       63       80   \n3               Venusaur  Grass  Poison  80      82       83      100   \n3  VenusaurMega Venusaur  Grass  Poison  80     100      123      122   \n4             Charmander   Fire     NaN  39      52       43       60   \n\n   Sp. Def  Speed  Generation  Legendary  \n#                                         \n1       65     45           1      False  \n2       80     60           1      False  \n3      100     80           1      False  \n3      120     80           1      False  \n4       50     65           1      False  \nLast 5 rows\n                     Name   Type 1 Type 2  HP  Attack  Defense  Sp. Atk  \\\n#                                                                        \n719              Diancie     Rock  Fairy  50     100      150      100   \n719  DiancieMega Diancie     Rock  Fairy  50     160      110      160   \n720  HoopaHoopa Confined  Psychic  Ghost  80     110       60      150   \n720   HoopaHoopa Unbound  Psychic   Dark  80     160       60      170   \n721            Volcanion     Fire  Water  80     110      120      130   \n\n     Sp. Def  Speed  Generation  Legendary  \n#                                           \n719      150     50           6       True  \n719      110    110           6       True  \n720      130     70           6       True  \n720      130     80           6       True  \n721       90     70           6       True  \nFull table\n\n"
    },
    {
     "output_type": "execute_result",
     "data": {
      "text/plain": "                      Name   Type 1  Type 2  HP  Attack  Defense  Sp. Atk  \\\n#                                                                           \n1                Bulbasaur    Grass  Poison  45      49       49       65   \n2                  Ivysaur    Grass  Poison  60      62       63       80   \n3                 Venusaur    Grass  Poison  80      82       83      100   \n3    VenusaurMega Venusaur    Grass  Poison  80     100      123      122   \n4               Charmander     Fire     NaN  39      52       43       60   \n..                     ...      ...     ...  ..     ...      ...      ...   \n719                Diancie     Rock   Fairy  50     100      150      100   \n719    DiancieMega Diancie     Rock   Fairy  50     160      110      160   \n720    HoopaHoopa Confined  Psychic   Ghost  80     110       60      150   \n720     HoopaHoopa Unbound  Psychic    Dark  80     160       60      170   \n721              Volcanion     Fire   Water  80     110      120      130   \n\n     Sp. Def  Speed  Generation  Legendary  \n#                                           \n1         65     45           1      False  \n2         80     60           1      False  \n3        100     80           1      False  \n3        120     80           1      False  \n4         50     65           1      False  \n..       ...    ...         ...        ...  \n719      150     50           6       True  \n719      110    110           6       True  \n720      130     70           6       True  \n720      130     80           6       True  \n721       90     70           6       True  \n\n[800 rows x 11 columns]",
      "text/html": "<div>\n<style scoped>\n    .dataframe tbody tr th:only-of-type {\n        vertical-align: middle;\n    }\n\n    .dataframe tbody tr th {\n        vertical-align: top;\n    }\n\n    .dataframe thead th {\n        text-align: right;\n    }\n</style>\n<table border=\"1\" class=\"dataframe\">\n  <thead>\n    <tr style=\"text-align: right;\">\n      <th></th>\n      <th>Name</th>\n      <th>Type 1</th>\n      <th>Type 2</th>\n      <th>HP</th>\n      <th>Attack</th>\n      <th>Defense</th>\n      <th>Sp. Atk</th>\n      <th>Sp. Def</th>\n      <th>Speed</th>\n      <th>Generation</th>\n      <th>Legendary</th>\n    </tr>\n    <tr>\n      <th>#</th>\n      <th></th>\n      <th></th>\n      <th></th>\n      <th></th>\n      <th></th>\n      <th></th>\n      <th></th>\n      <th></th>\n      <th></th>\n      <th></th>\n      <th></th>\n    </tr>\n  </thead>\n  <tbody>\n    <tr>\n      <th>1</th>\n      <td>Bulbasaur</td>\n      <td>Grass</td>\n      <td>Poison</td>\n      <td>45</td>\n      <td>49</td>\n      <td>49</td>\n      <td>65</td>\n      <td>65</td>\n      <td>45</td>\n      <td>1</td>\n      <td>False</td>\n    </tr>\n    <tr>\n      <th>2</th>\n      <td>Ivysaur</td>\n      <td>Grass</td>\n      <td>Poison</td>\n      <td>60</td>\n      <td>62</td>\n      <td>63</td>\n      <td>80</td>\n      <td>80</td>\n      <td>60</td>\n      <td>1</td>\n      <td>False</td>\n    </tr>\n    <tr>\n      <th>3</th>\n      <td>Venusaur</td>\n      <td>Grass</td>\n      <td>Poison</td>\n      <td>80</td>\n      <td>82</td>\n      <td>83</td>\n      <td>100</td>\n      <td>100</td>\n      <td>80</td>\n      <td>1</td>\n      <td>False</td>\n    </tr>\n    <tr>\n      <th>3</th>\n      <td>VenusaurMega Venusaur</td>\n      <td>Grass</td>\n      <td>Poison</td>\n      <td>80</td>\n      <td>100</td>\n      <td>123</td>\n      <td>122</td>\n      <td>120</td>\n      <td>80</td>\n      <td>1</td>\n      <td>False</td>\n    </tr>\n    <tr>\n      <th>4</th>\n      <td>Charmander</td>\n      <td>Fire</td>\n      <td>NaN</td>\n      <td>39</td>\n      <td>52</td>\n      <td>43</td>\n      <td>60</td>\n      <td>50</td>\n      <td>65</td>\n      <td>1</td>\n      <td>False</td>\n    </tr>\n    <tr>\n      <th>...</th>\n      <td>...</td>\n      <td>...</td>\n      <td>...</td>\n      <td>...</td>\n      <td>...</td>\n      <td>...</td>\n      <td>...</td>\n      <td>...</td>\n      <td>...</td>\n      <td>...</td>\n      <td>...</td>\n    </tr>\n    <tr>\n      <th>719</th>\n      <td>Diancie</td>\n      <td>Rock</td>\n      <td>Fairy</td>\n      <td>50</td>\n      <td>100</td>\n      <td>150</td>\n      <td>100</td>\n      <td>150</td>\n      <td>50</td>\n      <td>6</td>\n      <td>True</td>\n    </tr>\n    <tr>\n      <th>719</th>\n      <td>DiancieMega Diancie</td>\n      <td>Rock</td>\n      <td>Fairy</td>\n      <td>50</td>\n      <td>160</td>\n      <td>110</td>\n      <td>160</td>\n      <td>110</td>\n      <td>110</td>\n      <td>6</td>\n      <td>True</td>\n    </tr>\n    <tr>\n      <th>720</th>\n      <td>HoopaHoopa Confined</td>\n      <td>Psychic</td>\n      <td>Ghost</td>\n      <td>80</td>\n      <td>110</td>\n      <td>60</td>\n      <td>150</td>\n      <td>130</td>\n      <td>70</td>\n      <td>6</td>\n      <td>True</td>\n    </tr>\n    <tr>\n      <th>720</th>\n      <td>HoopaHoopa Unbound</td>\n      <td>Psychic</td>\n      <td>Dark</td>\n      <td>80</td>\n      <td>160</td>\n      <td>60</td>\n      <td>170</td>\n      <td>130</td>\n      <td>80</td>\n      <td>6</td>\n      <td>True</td>\n    </tr>\n    <tr>\n      <th>721</th>\n      <td>Volcanion</td>\n      <td>Fire</td>\n      <td>Water</td>\n      <td>80</td>\n      <td>110</td>\n      <td>120</td>\n      <td>130</td>\n      <td>90</td>\n      <td>70</td>\n      <td>6</td>\n      <td>True</td>\n    </tr>\n  </tbody>\n</table>\n<p>800 rows × 11 columns</p>\n</div>"
     },
     "metadata": {},
     "execution_count": 2
    }
   ],
   "source": [
    "pokemon_list = pd.read_csv(\"pokemon_data.csv\", index_col = ['#'])\n",
    "print('First 5 rows\\n',pokemon_list.head(5))\n",
    "print('Last 5 rows\\n',pokemon_list.tail(5))\n",
    "print('Full table\\n')\n",
    "pokemon_list"
   ]
  },
  {
   "cell_type": "markdown",
   "metadata": {},
   "source": [
    "## Read information from Dataframe"
   ]
  },
  {
   "cell_type": "code",
   "execution_count": 3,
   "metadata": {},
   "outputs": [
    {
     "output_type": "execute_result",
     "data": {
      "text/plain": "                      Name  Speed  Attack  Defense\n#                                                 \n1                Bulbasaur     45      49       49\n2                  Ivysaur     60      62       63\n3                 Venusaur     80      82       83\n3    VenusaurMega Venusaur     80     100      123\n4               Charmander     65      52       43\n..                     ...    ...     ...      ...\n719                Diancie     50     100      150\n719    DiancieMega Diancie    110     160      110\n720    HoopaHoopa Confined     70     110       60\n720     HoopaHoopa Unbound     80     160       60\n721              Volcanion     70     110      120\n\n[800 rows x 4 columns]",
      "text/html": "<div>\n<style scoped>\n    .dataframe tbody tr th:only-of-type {\n        vertical-align: middle;\n    }\n\n    .dataframe tbody tr th {\n        vertical-align: top;\n    }\n\n    .dataframe thead th {\n        text-align: right;\n    }\n</style>\n<table border=\"1\" class=\"dataframe\">\n  <thead>\n    <tr style=\"text-align: right;\">\n      <th></th>\n      <th>Name</th>\n      <th>Speed</th>\n      <th>Attack</th>\n      <th>Defense</th>\n    </tr>\n    <tr>\n      <th>#</th>\n      <th></th>\n      <th></th>\n      <th></th>\n      <th></th>\n    </tr>\n  </thead>\n  <tbody>\n    <tr>\n      <th>1</th>\n      <td>Bulbasaur</td>\n      <td>45</td>\n      <td>49</td>\n      <td>49</td>\n    </tr>\n    <tr>\n      <th>2</th>\n      <td>Ivysaur</td>\n      <td>60</td>\n      <td>62</td>\n      <td>63</td>\n    </tr>\n    <tr>\n      <th>3</th>\n      <td>Venusaur</td>\n      <td>80</td>\n      <td>82</td>\n      <td>83</td>\n    </tr>\n    <tr>\n      <th>3</th>\n      <td>VenusaurMega Venusaur</td>\n      <td>80</td>\n      <td>100</td>\n      <td>123</td>\n    </tr>\n    <tr>\n      <th>4</th>\n      <td>Charmander</td>\n      <td>65</td>\n      <td>52</td>\n      <td>43</td>\n    </tr>\n    <tr>\n      <th>...</th>\n      <td>...</td>\n      <td>...</td>\n      <td>...</td>\n      <td>...</td>\n    </tr>\n    <tr>\n      <th>719</th>\n      <td>Diancie</td>\n      <td>50</td>\n      <td>100</td>\n      <td>150</td>\n    </tr>\n    <tr>\n      <th>719</th>\n      <td>DiancieMega Diancie</td>\n      <td>110</td>\n      <td>160</td>\n      <td>110</td>\n    </tr>\n    <tr>\n      <th>720</th>\n      <td>HoopaHoopa Confined</td>\n      <td>70</td>\n      <td>110</td>\n      <td>60</td>\n    </tr>\n    <tr>\n      <th>720</th>\n      <td>HoopaHoopa Unbound</td>\n      <td>80</td>\n      <td>160</td>\n      <td>60</td>\n    </tr>\n    <tr>\n      <th>721</th>\n      <td>Volcanion</td>\n      <td>70</td>\n      <td>110</td>\n      <td>120</td>\n    </tr>\n  </tbody>\n</table>\n<p>800 rows × 4 columns</p>\n</div>"
     },
     "metadata": {},
     "execution_count": 3
    }
   ],
   "source": [
    "## Read by columns\n",
    "pokemon_list[[\"Name\", \"Speed\", \"Attack\", \"Defense\"]]"
   ]
  },
  {
   "cell_type": "code",
   "execution_count": null,
   "metadata": {},
   "outputs": [],
   "source": [
    "pokemon_list['Type 1'].unique()"
   ]
  },
  {
   "cell_type": "markdown",
   "metadata": {},
   "source": [
    "### Use of loc(names) and iloc(index)"
   ]
  },
  {
   "cell_type": "code",
   "execution_count": null,
   "metadata": {},
   "outputs": [],
   "source": [
    "## Read by rows\n",
    "print('pd.Dataframe.loc:\\n', pokemon_list.loc[0:3])\n",
    "print('pd.Dataframe.iloc:\\n', pokemon_list.iloc[0:3])\n"
   ]
  },
  {
   "cell_type": "code",
   "execution_count": null,
   "metadata": {},
   "outputs": [],
   "source": [
    "## Read by (R,C) position\n",
    "print('With loc:',pokemon_list.loc[1,'Name'])\n",
    "print('With iloc:',pokemon_list.iloc[0,0])"
   ]
  },
  {
   "cell_type": "code",
   "execution_count": 4,
   "metadata": {},
   "outputs": [
    {
     "output_type": "stream",
     "name": "stdout",
     "text": "Reading with condition:\n\n"
    },
    {
     "output_type": "execute_result",
     "data": {
      "text/plain": "                          Name Type 1    Type 2  HP  Attack  Defense  Sp. Atk  \\\n#                                                                               \n6    CharizardMega Charizard X   Fire    Dragon  78     130      111      130   \n6    CharizardMega Charizard Y   Fire    Flying  78     104       78      159   \n257      BlazikenMega Blaziken   Fire  Fighting  80     160       80      130   \n323      CameruptMega Camerupt   Fire    Ground  70     120      100      145   \n\n     Sp. Def  Speed  Generation  Legendary  \n#                                           \n6         85    100           1      False  \n6        115    100           1      False  \n257       80    100           3      False  \n323      105     20           3      False  ",
      "text/html": "<div>\n<style scoped>\n    .dataframe tbody tr th:only-of-type {\n        vertical-align: middle;\n    }\n\n    .dataframe tbody tr th {\n        vertical-align: top;\n    }\n\n    .dataframe thead th {\n        text-align: right;\n    }\n</style>\n<table border=\"1\" class=\"dataframe\">\n  <thead>\n    <tr style=\"text-align: right;\">\n      <th></th>\n      <th>Name</th>\n      <th>Type 1</th>\n      <th>Type 2</th>\n      <th>HP</th>\n      <th>Attack</th>\n      <th>Defense</th>\n      <th>Sp. Atk</th>\n      <th>Sp. Def</th>\n      <th>Speed</th>\n      <th>Generation</th>\n      <th>Legendary</th>\n    </tr>\n    <tr>\n      <th>#</th>\n      <th></th>\n      <th></th>\n      <th></th>\n      <th></th>\n      <th></th>\n      <th></th>\n      <th></th>\n      <th></th>\n      <th></th>\n      <th></th>\n      <th></th>\n    </tr>\n  </thead>\n  <tbody>\n    <tr>\n      <th>6</th>\n      <td>CharizardMega Charizard X</td>\n      <td>Fire</td>\n      <td>Dragon</td>\n      <td>78</td>\n      <td>130</td>\n      <td>111</td>\n      <td>130</td>\n      <td>85</td>\n      <td>100</td>\n      <td>1</td>\n      <td>False</td>\n    </tr>\n    <tr>\n      <th>6</th>\n      <td>CharizardMega Charizard Y</td>\n      <td>Fire</td>\n      <td>Flying</td>\n      <td>78</td>\n      <td>104</td>\n      <td>78</td>\n      <td>159</td>\n      <td>115</td>\n      <td>100</td>\n      <td>1</td>\n      <td>False</td>\n    </tr>\n    <tr>\n      <th>257</th>\n      <td>BlazikenMega Blaziken</td>\n      <td>Fire</td>\n      <td>Fighting</td>\n      <td>80</td>\n      <td>160</td>\n      <td>80</td>\n      <td>130</td>\n      <td>80</td>\n      <td>100</td>\n      <td>3</td>\n      <td>False</td>\n    </tr>\n    <tr>\n      <th>323</th>\n      <td>CameruptMega Camerupt</td>\n      <td>Fire</td>\n      <td>Ground</td>\n      <td>70</td>\n      <td>120</td>\n      <td>100</td>\n      <td>145</td>\n      <td>105</td>\n      <td>20</td>\n      <td>3</td>\n      <td>False</td>\n    </tr>\n  </tbody>\n</table>\n</div>"
     },
     "metadata": {},
     "execution_count": 4
    }
   ],
   "source": [
    "## Read by condition, multiple condition requires ()\n",
    "fire = pokemon_list.loc[(pokemon_list['Attack'] >= 100) & \n",
    "                        (pokemon_list['Type 1'] == 'Fire') & \n",
    "                        (pokemon_list['Name'].str.contains(pat=\"mega\", case=False))] # DataFrame.str.contains search by strings, case is for Upercase sensitive\n",
    "print('Reading with condition:\\n')\n",
    "fire.head(10)"
   ]
  },
  {
   "cell_type": "markdown",
   "metadata": {},
   "source": [
    "### Dataframe information"
   ]
  },
  {
   "cell_type": "code",
   "execution_count": null,
   "metadata": {},
   "outputs": [],
   "source": [
    "## Data information\n",
    "print(pokemon_list.info())\n",
    "pokemon_list.describe()"
   ]
  },
  {
   "cell_type": "code",
   "execution_count": null,
   "metadata": {},
   "outputs": [],
   "source": [
    "## Sorting data, multiple sorting conditions\n",
    "pokemon_list.sort_values([\"Attack\", \"Defense\"], ascending=[False,True])"
   ]
  },
  {
   "cell_type": "code",
   "execution_count": null,
   "metadata": {},
   "outputs": [],
   "source": [
    "## Create new column\n",
    "pokemon_list['Total pw'] = pokemon_list.loc[:, 'HP':'Speed'].sum(axis=1) # warning with the axis 1 = horizontal; 0 = Vertical\n",
    "pokemon_list"
   ]
  },
  {
   "cell_type": "code",
   "execution_count": null,
   "metadata": {},
   "outputs": [],
   "source": [
    "## looking for rows where column Type 2 is different of null or nan\n",
    "doble_type = pokemon_list.loc[~pokemon_list['Type 2'].isnull()]\n",
    "doble_type\n",
    "#type(doble_type)"
   ]
  },
  {
   "cell_type": "markdown",
   "metadata": {},
   "source": [
    "### Save data in external files"
   ]
  },
  {
   "cell_type": "code",
   "execution_count": null,
   "metadata": {},
   "outputs": [],
   "source": [
    "## Save data in external file \n",
    "#doble_type.to_csv(\"doble type pokemon.csv\", index=False)\n",
    "#doble_type.to_csv(\"doble type pokemon.txt\", sep=\"\\t\")\n",
    "doble_type.to_excel(\"doble type pokemon.xlsx\", index=False)"
   ]
  },
  {
   "cell_type": "markdown",
   "metadata": {
    "jupyter": {
     "outputs_hidden": true
    }
   },
   "source": [
    "### Filtering Data\n",
    "#### Using widgets for interact with the table directly in real time"
   ]
  },
  {
   "cell_type": "code",
   "execution_count": null,
   "metadata": {},
   "outputs": [],
   "source": [
    "type_list = pokemon_list['Type 1'].unique() # Give the type of the pokemons\n",
    "\n",
    "# Define a widget type Dropdown\n",
    "pok_type = widgets.Dropdown(\n",
    "            options = type_list,\n",
    "            value= type_list[0] if len(type_list) else \"Select\",\n",
    "            disable= False,\n",
    "            description= 'Type: '\n",
    "        )\n",
    "\n",
    "# Define a widget type IntSlider\n",
    "pok_HP = widgets.IntSlider(min = 0, max= pokemon_list['HP'].max(), value = 0, description= 'HP: ')\n",
    "\n",
    "new_df = pd.DataFrame()\n",
    "\n",
    "# The function to interact in real time\n",
    "def view(x, hp):\n",
    "    pok_HP.max = pokemon_list.loc[(pokemon_list['Type 1'] == x)]['HP'].max() # Change the max value of the IntSlider dinamically\n",
    "    pok_HP.min = pokemon_list.loc[(pokemon_list['Type 1'] == x)]['HP'].min() # Change the min value of the IntSlider dinamically\n",
    "    \n",
    "    # Return the new generated table and reset index from 0\n",
    "    return pokemon_list.loc[(pokemon_list['Type 1'] == x) & (pokemon_list['HP'] >= hp)].reset_index()\n",
    "\n",
    "# ipywidgets.interact makes possible the interaction\n",
    "widgets.interact(view, x = pok_type, hp = pok_HP)"
   ]
  },
  {
   "cell_type": "markdown",
   "metadata": {},
   "source": [
    "### Conditional Changes"
   ]
  },
  {
   "cell_type": "code",
   "execution_count": null,
   "metadata": {},
   "outputs": [],
   "source": [
    "# This change all the nan values of the Type 2 column and changes by 'Transformer'\n",
    "pokemon_list.loc[pokemon_list[\"Type 2\"].isnull(), 'Type 2'] = 'Transformer'\n",
    "\n",
    "# This is a conditional change with multiple changes\n",
    "pokemon_list.loc[pokemon_list['HP'] > 200, ['Generation', 'Legendary']] = [10, True]\n",
    "pokemon_list.sort_values(\"HP\", ascending=False)"
   ]
  },
  {
   "cell_type": "markdown",
   "metadata": {},
   "source": [
    "### Agregate Statistics (Groupby)"
   ]
  },
  {
   "cell_type": "code",
   "execution_count": null,
   "metadata": {},
   "outputs": [],
   "source": [
    "# Group the rows by Type 1 and get the total values \n",
    "pokemon_list.groupby(['Type 1']).sum()\n",
    "\n",
    "# Group the rows by Type 1 and get the mean values \n",
    "pokemon_list.groupby(['Type 1']).mean()\n",
    "\n",
    "# Group the rows by Type 1 and get the quantity of values(nan is not included) \n",
    "pokemon_list.groupby(['Type 1', 'Type 2']).count()"
   ]
  }
 ],
 "metadata": {
  "kernelspec": {
   "display_name": "Python 3",
   "language": "python",
   "name": "python3"
  },
  "language_info": {
   "codemirror_mode": {
    "name": "ipython",
    "version": 3
   },
   "file_extension": ".py",
   "mimetype": "text/x-python",
   "name": "python",
   "nbconvert_exporter": "python",
   "pygments_lexer": "ipython3",
   "version": "3.7.7-final"
  }
 },
 "nbformat": 4,
 "nbformat_minor": 4
}