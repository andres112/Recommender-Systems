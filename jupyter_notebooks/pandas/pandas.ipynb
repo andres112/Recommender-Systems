{
 "cells": [
  {
   "cell_type": "markdown",
   "metadata": {},
   "source": [
    "# PANDAS TIPS"
   ]
  },
  {
   "cell_type": "code",
   "execution_count": null,
   "metadata": {},
   "outputs": [],
   "source": [
    "import pandas as pd\n",
    "import ipywidgets as widgets"
   ]
  },
  {
   "cell_type": "code",
   "execution_count": null,
   "metadata": {},
   "outputs": [],
   "source": [
    "pokemon_list = pd.read_csv(\"pokemon_data.csv\", index_col = ['#'])\n",
    "print('First 5 rows\\n',pokemon_list.head(5))\n",
    "print('Last 5 rows\\n',pokemon_list.tail(5))\n",
    "print('Full table\\n')\n",
    "pokemon_list"
   ]
  },
  {
   "cell_type": "markdown",
   "metadata": {},
   "source": [
    "## Read information from Dataframe"
   ]
  },
  {
   "cell_type": "code",
   "execution_count": null,
   "metadata": {},
   "outputs": [],
   "source": [
    "## Read by columns\n",
    "pokemon_list[[\"Name\", \"Speed\", \"Attack\", \"Defense\"]]"
   ]
  },
  {
   "cell_type": "code",
   "execution_count": null,
   "metadata": {},
   "outputs": [],
   "source": [
    "pokemon_list['Type 1'].unique()"
   ]
  },
  {
   "cell_type": "markdown",
   "metadata": {},
   "source": [
    "### Use of loc(names) and iloc(index)"
   ]
  },
  {
   "cell_type": "code",
   "execution_count": null,
   "metadata": {},
   "outputs": [],
   "source": [
    "## Read by rows\n",
    "print('pd.Dataframe.loc:\\n', pokemon_list.loc[0:3])\n",
    "print('pd.Dataframe.iloc:\\n', pokemon_list.iloc[0:3])\n"
   ]
  },
  {
   "cell_type": "code",
   "execution_count": null,
   "metadata": {},
   "outputs": [],
   "source": [
    "## Read by (R,C) position\n",
    "print('With loc:',pokemon_list.loc[1,'Name'])\n",
    "print('With iloc:',pokemon_list.iloc[0,0])"
   ]
  },
  {
   "cell_type": "code",
   "execution_count": null,
   "metadata": {},
   "outputs": [],
   "source": [
    "## Read by condition, multiple condition requires ()\n",
    "fire = pokemon_list.loc[(pokemon_list['Attack'] >= 100) & \n",
    "                        (pokemon_list['Type 1'] == 'Fire') & \n",
    "                        (pokemon_list['Name'].str.contains(pat=\"mega\", case=False))] # DataFrame.str.contains search by strings, case is for Upercase sensitive\n",
    "print('Reading with condition:\\n')\n",
    "fire.head(10)"
   ]
  },
  {
   "cell_type": "markdown",
   "metadata": {},
   "source": [
    "### Dataframe information"
   ]
  },
  {
   "cell_type": "code",
   "execution_count": null,
   "metadata": {},
   "outputs": [],
   "source": [
    "## Data information\n",
    "print(pokemon_list.info())\n",
    "pokemon_list.describe()"
   ]
  },
  {
   "cell_type": "code",
   "execution_count": null,
   "metadata": {},
   "outputs": [],
   "source": [
    "## Sorting data, multiple sorting conditions\n",
    "pokemon_list.sort_values([\"Attack\", \"Defense\"], ascending=[False,True])"
   ]
  },
  {
   "cell_type": "code",
   "execution_count": null,
   "metadata": {},
   "outputs": [],
   "source": [
    "## Create new column\n",
    "pokemon_list['Total pw'] = pokemon_list.loc[:, 'HP':'Speed'].sum(axis=1) # warning with the axis 1 = horizontal; 0 = Vertical\n",
    "pokemon_list"
   ]
  },
  {
   "cell_type": "code",
   "execution_count": null,
   "metadata": {},
   "outputs": [],
   "source": [
    "## looking for rows where column Type 2 is different of null or nan\n",
    "doble_type = pokemon_list.loc[~pokemon_list['Type 2'].isnull()]\n",
    "doble_type\n",
    "#type(doble_type)"
   ]
  },
  {
   "cell_type": "markdown",
   "metadata": {},
   "source": [
    "### Save data in external files"
   ]
  },
  {
   "cell_type": "code",
   "execution_count": null,
   "metadata": {},
   "outputs": [],
   "source": [
    "## Save data in external file \n",
    "#doble_type.to_csv(\"doble type pokemon.csv\", index=False)\n",
    "#doble_type.to_csv(\"doble type pokemon.txt\", sep=\"\\t\")\n",
    "doble_type.to_excel(\"doble type pokemon.xlsx\", index=False)"
   ]
  },
  {
   "cell_type": "markdown",
   "metadata": {
    "jupyter": {
     "outputs_hidden": true
    }
   },
   "source": [
    "### Filtering Data\n",
    "#### Using widgets for interact with the table directly in real time"
   ]
  },
  {
   "cell_type": "code",
   "execution_count": null,
   "metadata": {},
   "outputs": [],
   "source": [
    "type_list = pokemon_list['Type 1'].unique() # Give the type of the pokemons\n",
    "\n",
    "# Define a widget type Dropdown\n",
    "pok_type = widgets.Dropdown(\n",
    "            options = type_list,\n",
    "            value= type_list[0] if len(type_list) else \"Select\",\n",
    "            disable= False,\n",
    "            description= 'Type: '\n",
    "        )\n",
    "\n",
    "# Define a widget type IntSlider\n",
    "pok_HP = widgets.IntSlider(min = 0, max= pokemon_list['HP'].max(), value = 0, description= 'HP: ')\n",
    "\n",
    "new_df = pd.DataFrame()\n",
    "\n",
    "# The function to interact in real time\n",
    "def view(x, hp):\n",
    "    pok_HP.max = pokemon_list.loc[(pokemon_list['Type 1'] == x)]['HP'].max() # Change the max value of the IntSlider dinamically\n",
    "    pok_HP.min = pokemon_list.loc[(pokemon_list['Type 1'] == x)]['HP'].min() # Change the min value of the IntSlider dinamically\n",
    "    \n",
    "    # Return the new generated table and reset index from 0\n",
    "    return pokemon_list.loc[(pokemon_list['Type 1'] == x) & (pokemon_list['HP'] >= hp)].reset_index()\n",
    "\n",
    "# ipywidgets.interact makes possible the interaction\n",
    "widgets.interact(view, x = pok_type, hp = pok_HP)"
   ]
  },
  {
   "cell_type": "markdown",
   "metadata": {},
   "source": [
    "### Conditional Changes"
   ]
  },
  {
   "cell_type": "code",
   "execution_count": null,
   "metadata": {},
   "outputs": [],
   "source": [
    "# This change all the nan values of the Type 2 column and changes by 'Transformer'\n",
    "pokemon_list.loc[pokemon_list[\"Type 2\"].isnull(), 'Type 2'] = 'Transformer'\n",
    "\n",
    "# This is a conditional change with multiple changes\n",
    "pokemon_list.loc[pokemon_list['HP'] > 200, ['Generation', 'Legendary']] = [10, True]\n",
    "pokemon_list.sort_values(\"HP\", ascending=False)"
   ]
  },
  {
   "cell_type": "markdown",
   "metadata": {},
   "source": [
    "### Agregate Statistics (Groupby)"
   ]
  },
  {
   "cell_type": "code",
   "execution_count": null,
   "metadata": {},
   "outputs": [],
   "source": [
    "# Group the rows by Type 1 and get the total values \n",
    "pokemon_list.groupby(['Type 1']).sum()\n",
    "\n",
    "# Group the rows by Type 1 and get the mean values \n",
    "pokemon_list.groupby(['Type 1']).mean()\n",
    "\n",
    "# Group the rows by Type 1 and get the quantity of values(nan is not included) \n",
    "pokemon_list.groupby(['Type 1', 'Type 2']).count()"
   ]
  }
 ],
 "metadata": {
  "kernelspec": {
   "display_name": "Python 3",
   "language": "python",
   "name": "python3"
  },
  "language_info": {
   "codemirror_mode": {
    "name": "ipython",
    "version": 3
   },
   "file_extension": ".py",
   "mimetype": "text/x-python",
   "name": "python",
   "nbconvert_exporter": "python",
   "pygments_lexer": "ipython3",
   "version": "3.7.7"
  }
 },
 "nbformat": 4,
 "nbformat_minor": 4
}
